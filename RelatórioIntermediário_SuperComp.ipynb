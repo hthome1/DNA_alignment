{
 "cells": [
  {
   "cell_type": "markdown",
   "metadata": {},
   "source": [
    "# Relatório Intermediário - Alinhamento de Sequencias de DNA"
   ]
  },
  {
   "cell_type": "markdown",
   "metadata": {},
   "source": [
    "Feito por: Henrique Thomé"
   ]
  },
  {
   "cell_type": "markdown",
   "metadata": {},
   "source": [
    " Nesse relatório será comparado três estratégias para o alinhamento de sequências de DNA, comparando, o score e seus respectivos tempos de execução. As estratégias são: Alinhamento local de Smith-Waterman, Busca Local e Busca Exaustiva."
   ]
  },
  {
   "cell_type": "markdown",
   "metadata": {},
   "source": [
    "### Comparação"
   ]
  },
  {
   "cell_type": "markdown",
   "metadata": {},
   "source": [
    "Para realizar as comparações, vamos definir os sequintes parâmetros:<br>\n",
    "- Serão geradas 50 pares sequências de DNA tendo cada uma delas de 10 até 1010 caracteres;\n",
    "- Os scores sao: Mismatch e Gap = -, match = 2 "
   ]
  },
  {
   "cell_type": "markdown",
   "metadata": {},
   "source": [
    "### Alinhamento Local de Smith-Waterman"
   ]
  },
  {
   "cell_type": "markdown",
   "metadata": {},
   "source": [
    "O algoritmo de Smith-Waterman consiste em montar uma matrix que relaciona as duas sequências, uma em cada eixo. Cada item é o maior valor entre seus vizinhos: diagonal - mais o score entre os dois caracteres em si- de cima e da esquerda. <br>\n",
    "Feito isso, o maior valor é identificado e depois o caminho que o levou até lá é achado, identificando, assim, a maior sequência de alinhamento.<br>\n",
    "Mais informações sobre o algoritmo diponíveis em: https://pt.wikipedia.org/wiki/Algoritmo_de_Smith-Waterman"
   ]
  },
  {
   "cell_type": "markdown",
   "metadata": {},
   "source": [
    "### Busca Local Aleatória"
   ]
  },
  {
   "cell_type": "markdown",
   "metadata": {},
   "source": [
    "O algoritmo consiste em selecionar uma subsequência aleatória do primeiro DNA, depois gerar p subsequências aleatórias de tamanho igual à primeira subsequência. Feito isso, comparar todas as sequências e salvar o score máximo "
   ]
  },
  {
   "cell_type": "markdown",
   "metadata": {},
   "source": [
    "### Busca Exaustiva"
   ]
  },
  {
   "cell_type": "markdown",
   "metadata": {},
   "source": [
    "A busca exaustiva consiste em achar todas as subsequências possíveis de ambos os DNAs e comparar todas com todas, achando assim o valor máximo global. <br>\n",
    "Não é possível fornecer o score de sequências de tamanhos diferentes, assim quando existe essa comparação, existem dois aproachs analisados: Usar o algorítmo de Smith-Waterman, ou o algorítmo de busca local. <br>\n",
    "Ao fazer uma análise da segunda opção, pode-se perceber que seria reduntante, uma vez que se truncarmos a sequência, seria gerado uma subsequência já existente dentro do universo de busca. "
   ]
  },
  {
   "cell_type": "code",
   "execution_count": 2,
   "metadata": {},
   "outputs": [],
   "source": [
    "import subprocess\n",
    "import time\n",
    "def roda_com_entrada(ex, in_f):\n",
    "    with open(in_f) as f:\n",
    "        start = time.perf_counter()\n",
    "        proc = subprocess.run([ex], input=f.read(), text=True, capture_output=True)\n",
    "        end = time.perf_counter()\n",
    "\n",
    "    return proc.stdout, end-start\n",
    "\n"
   ]
  },
  {
   "cell_type": "code",
   "execution_count": null,
   "metadata": {},
   "outputs": [],
   "source": [
    "out,tempo = roda_com_entrada(\"./ExhaustiveSearch/exhaustiveSearch\",\"./DNASequence/Sequences/dna1\")"
   ]
  }
 ],
 "metadata": {
  "kernelspec": {
   "display_name": "Python 3",
   "language": "python",
   "name": "python3"
  },
  "language_info": {
   "codemirror_mode": {
    "name": "ipython",
    "version": 3
   },
   "file_extension": ".py",
   "mimetype": "text/x-python",
   "name": "python",
   "nbconvert_exporter": "python",
   "pygments_lexer": "ipython3",
   "version": "3.8.10"
  }
 },
 "nbformat": 4,
 "nbformat_minor": 4
}
